{
  "nbformat": 4,
  "nbformat_minor": 0,
  "metadata": {
    "colab": {
      "provenance": []
    },
    "kernelspec": {
      "name": "python3",
      "display_name": "Python 3"
    },
    "language_info": {
      "name": "python"
    }
  },
  "cells": [
    {
      "cell_type": "code",
      "execution_count": null,
      "metadata": {
        "colab": {
          "base_uri": "https://localhost:8080/"
        },
        "id": "0wQj8gtAnJou",
        "outputId": "ddc94e5d-084d-4543-cc08-724f37f664ef"
      },
      "outputs": [
        {
          "output_type": "stream",
          "name": "stdout",
          "text": [
            "Welcome to Python Pizza Deliveries!\n",
            "What size pizza do you want? S for Small, M for Medium, L for Large: L\n",
            "Do you want pepperoni? Y for Yes, N for No: Y\n",
            "Do you want extra cheese? Y for Yes, N for No: N\n",
            "your final bill: $28\n"
          ]
        }
      ],
      "source": [
        "print(\"Welcome to Python Pizza Deliveries!\")\n",
        "\n",
        "#prompts the user for the pizza Size, add pepperoni, extra cheese\n",
        "\n",
        "size = input(\"What size pizza do you want? S for Small, M for Medium, L for Large: \")\n",
        "add_pepperoni = input(\"Do you want pepperoni? Y for Yes, N for No: \")\n",
        "extra_cheese = input(\"Do you want extra cheese? Y for Yes, N for No: \")\n",
        "\n",
        "#intialize bill variable\n",
        "\n",
        "bill = 0\n",
        "\n",
        "#calculate cost based on sizes\n",
        "\n",
        "if size == 'S':\n",
        "  bill += 15\n",
        "elif size == 'M':\n",
        "  bill += 20\n",
        "elif size == 'L':\n",
        "  bill += 25\n",
        "\n",
        "#add cost for pepperoni based on pizza size\n",
        "if add_pepperoni == 'Y':\n",
        " if size == 'S':\n",
        "  bill += 2\n",
        " else:\n",
        "\n",
        "  bill += 3\n",
        "\n",
        "#add extra cost for cheese\n",
        "\n",
        "if extra_cheese == 'Y':\n",
        "  bill += 1\n",
        "\n",
        "# final bill\n",
        "\n",
        "print(f\"your final bill: ${bill}\")"
      ]
    }
  ]
}