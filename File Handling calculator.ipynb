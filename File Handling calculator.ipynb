{
 "cells": [
  {
   "cell_type": "code",
   "execution_count": 3,
   "id": "fcdc042e-a673-4c30-8e32-651f67230d30",
   "metadata": {},
   "outputs": [],
   "source": [
    "import math "
   ]
  },
  {
   "cell_type": "code",
   "execution_count": 5,
   "id": "ee73aa4f-32da-4e62-952e-86a98da17af6",
   "metadata": {},
   "outputs": [],
   "source": [
    "class Calculator:\n",
    "    \n",
    "    # Defining the functions for the basic math operations\n",
    "    def add(self, num1, num2):\n",
    "        # Adding two numbers\n",
    "        return num1 + num2\n",
    "\n",
    "    def subtract(self, num1, num2):\n",
    "        # Subtracting the second number from the first number\n",
    "        return num1 - num2\n",
    "\n",
    "    def multiply(self, num1, num2):\n",
    "        # Multiplying two numbers\n",
    "        return num1 * num2\n",
    "\n",
    "    def divide(self, num1, num2):\n",
    "        # Dividing the first number by the second number, with a check for division by zero\n",
    "        if num2 == 0:\n",
    "            print(\"Error: Division by zero is not allowed.\")\n",
    "        return num1 / num2\n",
    "    \n",
    "    def __init__(self):\n",
    "        # Initializing the operations dictionary with basic operations and their corresponding methods\n",
    "        self.operations = {\n",
    "            '+': self.add,\n",
    "            '-': self.subtract,\n",
    "            '*': self.multiply,\n",
    "            '/': self.divide\n",
    "        }\n",
    "\n",
    "    def add_operation(self, symbol, function):\n",
    "        # Adding a new operation to the operations dictionary\n",
    "        self.operations[symbol] = function\n",
    "    \n",
    "    def calculate(self, num1, operation, num2):\n",
    "        # Checking if the operation is valid\n",
    "        if operation not in self.operations:\n",
    "            print(f\"Error: '{operation}' is not a valid operation.\")\n",
    "        \n",
    "        # Checking if the inputs are numbers\n",
    "        if not (isinstance(num1, (int, float)) and isinstance(num2, (int, float))):\n",
    "        # The isinstance() function returns True if the specified object is of the specified type, otherwise False.    \n",
    "            print(\"Error: Both numbers must be integers or floats.\")\n",
    "        \n",
    "        # Retrieving the function corresponding to the operation\n",
    "        function = self.operations[operation] \n",
    "        return function(num1, num2)  # Executing the function with num1 and num2 as arguments\n"
   ]
  },
  {
   "cell_type": "code",
   "execution_count": 11,
   "id": "81e1bba5-6fbf-423f-a039-cf39846f043e",
   "metadata": {},
   "outputs": [],
   "source": [
    "#Creating an instance of the Calculator class\n",
    "calc = Calculator()"
   ]
  },
  {
   "cell_type": "code",
   "execution_count": 13,
   "id": "e8072d46-9f1b-43e7-bd8c-dbc770a583c3",
   "metadata": {},
   "outputs": [],
   "source": [
    "# functions for the advanced mathematical operations\n",
    "def exponentiate(num1, num2):\n",
    "    # Raising the first number to the power of the second number\n",
    "    return num1 ** num2\n",
    "\n",
    "def sqrt(num1, _):\n",
    "    # Calculating the square root of the first number\n",
    "    return math.sqrt(num1)\n",
    "\n",
    "def logarithm(num1, num2):\n",
    "    # Calculating the logarithm of num1 with base num2, with checks for valid inputs\n",
    "    if num1 <= 0:\n",
    "        print(\"Error: Logarithm base must be greater than 0.\")\n",
    "    if num2 <= 0 or num2 == 1:\n",
    "        print(\"Error: Logarithm argument must be greater than 0 and not equal to 1.\")\n",
    "    return math.log(num1, num2)  # Calculating the logarithm"
   ]
  },
  {
   "cell_type": "code",
   "execution_count": 15,
   "id": "065fd38d-b3b1-463c-bde6-4c53305dd06b",
   "metadata": {},
   "outputs": [],
   "source": [
    "# Adding advanced operations to the calculator\n",
    "calc.add_operation('^', exponentiate)\n",
    "calc.add_operation('sqrt', sqrt)\n",
    "calc.add_operation('log', logarithm)"
   ]
  },
  {
   "cell_type": "code",
   "execution_count": 23,
   "id": "91598ebd-b55a-4ba0-9184-0db45cd7a097",
   "metadata": {},
   "outputs": [
    {
     "name": "stdin",
     "output_type": "stream",
     "text": [
      "Enter the first number (or type 'exit' to quit):  6\n",
      "Enter the second number:  6\n",
      "Enter the operation (+, -, *, /, ^, sqrt, log):  log\n"
     ]
    },
    {
     "name": "stdout",
     "output_type": "stream",
     "text": [
      "The result is: 1.0\n"
     ]
    },
    {
     "name": "stdin",
     "output_type": "stream",
     "text": [
      "Enter the first number (or type 'exit' to quit):  exit\n"
     ]
    }
   ],
   "source": [
    "while True:\n",
    "    # Prompting the user to enter the first number or exit the program\n",
    "    num1_input = input(\"Enter the first number (or type 'exit' to quit): \")\n",
    "    if num1_input.lower() == 'exit':\n",
    "        break  # Exiting the loop if the user types 'exit'\n",
    "\n",
    "    # Prompting the user to enter the second number\n",
    "    num2_input = input(\"Enter the second number: \")\n",
    "\n",
    "    # Prompting the user to enter the operation\n",
    "    operation = input(\"Enter the operation (+, -, *, /, ^, sqrt, log): \")\n",
    "\n",
    "    # Converting inputs to floats\n",
    "    num1 = float(num1_input)\n",
    "    num2 = float(num2_input) if operation != 'sqrt' else 0  # sqrt only needs one number\n",
    "\n",
    "    # Performing the calculation\n",
    "    result = calc.calculate(num1, operation, num2)\n",
    "\n",
    "    # Displaying the result\n",
    "    print(f\"The result is: {result}\")"
   ]
  },
  {
   "cell_type": "code",
   "execution_count": null,
   "id": "b6b18dd3-a387-4a2b-83c2-d8e5b4293450",
   "metadata": {},
   "outputs": [],
   "source": []
  },
  {
   "cell_type": "code",
   "execution_count": null,
   "id": "fe0bcaab-fb66-4c1e-bb82-97823cbc126d",
   "metadata": {},
   "outputs": [],
   "source": []
  }
 ],
 "metadata": {
  "kernelspec": {
   "display_name": "Python 3 (ipykernel)",
   "language": "python",
   "name": "python3"
  },
  "language_info": {
   "codemirror_mode": {
    "name": "ipython",
    "version": 3
   },
   "file_extension": ".py",
   "mimetype": "text/x-python",
   "name": "python",
   "nbconvert_exporter": "python",
   "pygments_lexer": "ipython3",
   "version": "3.12.7"
  }
 },
 "nbformat": 4,
 "nbformat_minor": 5
}
