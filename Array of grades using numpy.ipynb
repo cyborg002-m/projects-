{
 "cells": [
  {
   "cell_type": "code",
   "execution_count": 4,
   "id": "391c2b3e-1923-4818-b7e3-f42ee17bf2a1",
   "metadata": {},
   "outputs": [],
   "source": [
    "import numpy as np "
   ]
  },
  {
   "cell_type": "code",
   "execution_count": 6,
   "id": "c8ca4c64-b088-4d81-a171-4c82bcd80d82",
   "metadata": {},
   "outputs": [
    {
     "name": "stdout",
     "output_type": "stream",
     "text": [
      "[85 90 88 92 95 80 75 98 89 83]\n"
     ]
    }
   ],
   "source": [
    "array_from_grades = np.array([85, 90, 88, 92, 95, 80, 75, 98, 89, 83])\n",
    "print(array_from_grades)"
   ]
  },
  {
   "cell_type": "code",
   "execution_count": 10,
   "id": "d59317d8-98c5-4103-8416-fe63c0dee5b6",
   "metadata": {},
   "outputs": [
    {
     "name": "stdout",
     "output_type": "stream",
     "text": [
      "Mean: 87.5\n",
      "Median: 88.5\n",
      "Standard Deviation: 6.591661399070799\n"
     ]
    }
   ],
   "source": [
    "mean = np.mean(array_from_grades)\n",
    "median = np.median(array_from_grades)\n",
    "std_dev = np.std(array_from_grades)\n",
    "print(\"Mean:\", mean)\n",
    "print(\"Median:\", median) \n",
    "print(\"Standard Deviation:\", std_dev) "
   ]
  },
  {
   "cell_type": "code",
   "execution_count": 12,
   "id": "4d01f817-bf84-48b2-a263-0fa47a9c69df",
   "metadata": {},
   "outputs": [
    {
     "name": "stdout",
     "output_type": "stream",
     "text": [
      "Minimum value using np.min:  75\n",
      "Maximum value using np.max:  98\n"
     ]
    }
   ],
   "source": [
    "print(\"Minimum value using np.min: \",np.min(array_from_grades))\n",
    "print(\"Maximum value using np.max: \",np.max(array_from_grades))"
   ]
  },
  {
   "cell_type": "code",
   "execution_count": 16,
   "id": "9d4754ee-a8d4-4edf-bea8-baa382a3c7f5",
   "metadata": {},
   "outputs": [
    {
     "name": "stdout",
     "output_type": "stream",
     "text": [
      "[75 80 83 85 88 89 90 92 95 98]\n"
     ]
    }
   ],
   "source": [
    "array_from_grades.sort()\n",
    "print(array_from_grades)"
   ]
  },
  {
   "cell_type": "code",
   "execution_count": 20,
   "id": "3b9c2111-94e1-47b6-bb2a-90d518611e0a",
   "metadata": {},
   "outputs": [
    {
     "name": "stdout",
     "output_type": "stream",
     "text": [
      "Index of the highest grade: 9\n"
     ]
    }
   ],
   "source": [
    "index_of_highest_grade = np.argmax(array_from_grades)\n",
    "print(\"Index of the highest grade:\", index_of_highest_grade)"
   ]
  },
  {
   "cell_type": "code",
   "execution_count": 22,
   "id": "32cb68ab-3dfa-47a0-9952-4e14f5b45a15",
   "metadata": {},
   "outputs": [
    {
     "name": "stdout",
     "output_type": "stream",
     "text": [
      "Number of students who scored above 90: 3\n"
     ]
    }
   ],
   "source": [
    "x = array_from_grades > 90\n",
    "y =  np.sum(x)\n",
    "print(\"Number of students who scored above 90:\", y)"
   ]
  },
  {
   "cell_type": "code",
   "execution_count": 25,
   "id": "6923ec3f-3fd9-43f5-9743-e2ed7346be52",
   "metadata": {},
   "outputs": [
    {
     "name": "stdout",
     "output_type": "stream",
     "text": [
      "Percentage of students who scored above 90: 30.0 %\n"
     ]
    }
   ],
   "source": [
    "total_students = len(array_from_grades)\n",
    "percentage_above_90 = (y / total_students) * 100\n",
    "print(\"Percentage of students who scored above 90:\", percentage_above_90, \"%\")"
   ]
  },
  {
   "cell_type": "code",
   "execution_count": 27,
   "id": "d4a996ec-e2f5-4c83-888c-148e08094cb1",
   "metadata": {},
   "outputs": [
    {
     "name": "stdout",
     "output_type": "stream",
     "text": [
      "Percentage of students who scored below 75: 0.0 %\n"
     ]
    }
   ],
   "source": [
    "ux = array_from_grades < 75\n",
    "uy = np.sum(ux)\n",
    "total_students = len(array_from_grades)\n",
    "xy = (uy / total_students) * 100\n",
    "print(\"Percentage of students who scored below 75:\", xy, \"%\")"
   ]
  },
  {
   "cell_type": "code",
   "execution_count": 30,
   "id": "c6912ee5-8a0b-4901-afdc-df18c919f63b",
   "metadata": {},
   "outputs": [
    {
     "name": "stdout",
     "output_type": "stream",
     "text": [
      "[92 95 98]\n"
     ]
    }
   ],
   "source": [
    "high_performers = np.array([92, 95, 98])\n",
    "print(high_performers)"
   ]
  },
  {
   "cell_type": "code",
   "execution_count": 34,
   "id": "5b9aaf27-4807-436a-923e-c6a77f6ca9c8",
   "metadata": {},
   "outputs": [
    {
     "name": "stdout",
     "output_type": "stream",
     "text": [
      "[80 83 85 88 89 90 92 95 98]\n"
     ]
    }
   ],
   "source": [
    "passing_grades = np.array([80, 83, 85, 88, 89, 90, 92, 95, 98])\n",
    "print(passing_grades)"
   ]
  },
  {
   "cell_type": "code",
   "execution_count": null,
   "id": "97cf084d-bd25-49e2-9c58-c18e9b1e710e",
   "metadata": {},
   "outputs": [],
   "source": []
  }
 ],
 "metadata": {
  "kernelspec": {
   "display_name": "Python 3 (ipykernel)",
   "language": "python",
   "name": "python3"
  },
  "language_info": {
   "codemirror_mode": {
    "name": "ipython",
    "version": 3
   },
   "file_extension": ".py",
   "mimetype": "text/x-python",
   "name": "python",
   "nbconvert_exporter": "python",
   "pygments_lexer": "ipython3",
   "version": "3.12.7"
  }
 },
 "nbformat": 4,
 "nbformat_minor": 5
}
