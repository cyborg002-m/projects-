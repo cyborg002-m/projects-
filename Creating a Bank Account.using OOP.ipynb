{
  "nbformat": 4,
  "nbformat_minor": 0,
  "metadata": {
    "colab": {
      "provenance": []
    },
    "kernelspec": {
      "name": "python3",
      "display_name": "Python 3"
    },
    "language_info": {
      "name": "python"
    }
  },
  "cells": [
    {
      "cell_type": "code",
      "execution_count": null,
      "metadata": {
        "id": "LzxuBNtSQ2AW"
      },
      "outputs": [],
      "source": [
        "class account:\n",
        "  def __init__(self, account_number, account_balance, account_holder):\n",
        "    self.account_number = account_number\n",
        "    self.account_balance = account_balance\n",
        "    self.account_holder = account_balance\n",
        "  def deposit(self):\n",
        "      deposit = input('how much do you want to deposit: ')\n",
        "      float_deposit = float(deposit)\n",
        "      self.account_balance = float(self.account_balance) + float_deposit\n",
        "      print(f'your new balance is {self.account_balance}')\n",
        "  def withdrawal(self):\n",
        "      x = input('how much do you want to withdraw: ')\n",
        "      float_x = float(x)\n",
        "      if float_x > float(self.account_balance):\n",
        "        print('insufficient funds')\n",
        "      else:\n",
        "        self.account_balance = float(self.account_balance) - float(x)\n",
        "        print(f'your account balance is: {self.account_balance}')\n",
        "  def check_balance(self):\n",
        "\n",
        "        print(f' your account balance is {self.account_balance}')\n",
        "player_one = account(923688185, 90000.00, 'NOOBZ')\n",
        "\n"
      ]
    },
    {
      "cell_type": "code",
      "source": [
        "player_one.deposit()"
      ],
      "metadata": {
        "colab": {
          "base_uri": "https://localhost:8080/"
        },
        "id": "kOexLJUQcYSk",
        "outputId": "bdcde694-b376-45bc-a76f-ccc2a5988ea9"
      },
      "execution_count": null,
      "outputs": [
        {
          "output_type": "stream",
          "name": "stdout",
          "text": [
            "how much do you want to deposit: 600000\n",
            "your new balance is 690000.0\n"
          ]
        }
      ]
    },
    {
      "cell_type": "code",
      "source": [
        "player_one.withdrawal()\n"
      ],
      "metadata": {
        "colab": {
          "base_uri": "https://localhost:8080/"
        },
        "id": "un-OJJk5d8M4",
        "outputId": "af81d911-f5bc-4ea2-eff8-f8ced0b70c2d"
      },
      "execution_count": null,
      "outputs": [
        {
          "output_type": "stream",
          "name": "stdout",
          "text": [
            "how much do you want to withdraw: 7000000\n",
            "insufficient funds\n"
          ]
        }
      ]
    },
    {
      "cell_type": "code",
      "source": [
        "player_one.check_balance()"
      ],
      "metadata": {
        "colab": {
          "base_uri": "https://localhost:8080/"
        },
        "id": "B08vht_6eBFP",
        "outputId": "a8c3d420-5dee-4e06-8457-28fe632511ff"
      },
      "execution_count": null,
      "outputs": [
        {
          "output_type": "stream",
          "name": "stdout",
          "text": [
            " your account balance is 690000.0\n"
          ]
        }
      ]
    },
    {
      "cell_type": "code",
      "source": [],
      "metadata": {
        "id": "uwVNdlO5eH7-"
      },
      "execution_count": null,
      "outputs": []
    }
  ]
}