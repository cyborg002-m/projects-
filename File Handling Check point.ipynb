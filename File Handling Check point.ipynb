{
 "cells": [
  {
   "cell_type": "code",
   "execution_count": null,
   "id": "6e90f171-eccc-4558-acfb-c171898cd24b",
   "metadata": {},
   "outputs": [],
   "source": [
    "This ➡️ dataset contains loan information, including loan ID, customer gender, location, region, total price for each loan etc.\n",
    "\n",
    "\n",
    "Instructions\n",
    "\n",
    " \n",
    "\n",
    "Begin by importing the necessary libraries, numpy.\n",
    "Use the open() function to open csv file and assign the result to a variable.\n",
    "Use the numpy array to perform some basic statistical analysis on the data, such as finding the mean, median, and standard deviation of the loan amounts.\n",
    "Note:\n",
    "\n",
    "Be sure to close the file after you have finished reading it in with the open() function.\n",
    "Use the delimiter parameter in the genfromtxt() function to specify that the values in the file are separated by commas.\n",
    "You can use the numpy functions mean(), median(), and std() to find the mean, median, and standard deviation of the loan amounts."
   ]
  },
  {
   "cell_type": "code",
   "execution_count": 1,
   "id": "00edfd40-b57a-4af6-920b-6a6e9d6bc71b",
   "metadata": {},
   "outputs": [
    {
     "name": "stdout",
     "output_type": "stream",
     "text": [
      "Mean loan amount: nan\n",
      "Median loan amount: nan\n",
      "Standard deviation of loan amounts: nan\n"
     ]
    }
   ],
   "source": [
    "import numpy as np\n",
    "\n",
    "# Open the CSV file\n",
    "with open('Downloads/Loan_prediction_dataset.csv', 'r') as file:\n",
    "    data = np.genfromtxt(file, delimiter=',')\n",
    "\n",
    "# Extract the loan amounts (assuming they are in the second column)\n",
    "loan_amounts = data[:, 1]\n",
    "\n",
    "# Calculate and print statistics\n",
    "mean_loan_amount = np.mean(loan_amounts)\n",
    "median_loan_amount = np.median(loan_amounts)\n",
    "std_dev_loan_amount = np.std(loan_amounts)\n",
    "\n",
    "print(\"Mean loan amount:\", mean_loan_amount)\n",
    "print(\"Median loan amount:\", median_loan_amount)\n",
    "print(\"Standard deviation of loan amounts:\", std_dev_loan_amount)"
   ]
  },
  {
   "cell_type": "code",
   "execution_count": null,
   "id": "1f46b9c0-2e52-4992-ae21-d11ac23ddb5a",
   "metadata": {},
   "outputs": [],
   "source": []
  }
 ],
 "metadata": {
  "kernelspec": {
   "display_name": "Python 3 (ipykernel)",
   "language": "python",
   "name": "python3"
  },
  "language_info": {
   "codemirror_mode": {
    "name": "ipython",
    "version": 3
   },
   "file_extension": ".py",
   "mimetype": "text/x-python",
   "name": "python",
   "nbconvert_exporter": "python",
   "pygments_lexer": "ipython3",
   "version": "3.12.7"
  }
 },
 "nbformat": 4,
 "nbformat_minor": 5
}
